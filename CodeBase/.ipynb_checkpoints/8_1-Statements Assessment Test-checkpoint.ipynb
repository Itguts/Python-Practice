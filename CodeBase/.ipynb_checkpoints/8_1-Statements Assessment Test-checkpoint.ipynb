{
 "cells": [
  {
   "cell_type": "markdown",
   "metadata": {
    "collapsed": true
   },
   "source": [
    "# Statements Assessment Test\n",
    "Let's test your knowledge!"
   ]
  },
  {
   "cell_type": "markdown",
   "metadata": {},
   "source": [
    "_____\n",
    "**Use <code>for</code>, .split(), and <code>if</code> to create a Statement that will print out words that start with 's':**"
   ]
  },
  {
   "cell_type": "code",
   "execution_count": 2,
   "metadata": {},
   "outputs": [],
   "source": [
    "st = 'Print only the words that start with s in this sentence'"
   ]
  },
  {
   "cell_type": "code",
   "execution_count": 3,
   "metadata": {},
   "outputs": [
    {
     "data": {
      "text/plain": [
       "['Print',\n",
       " 'only',\n",
       " 'the',\n",
       " 'words',\n",
       " 'that',\n",
       " 'start',\n",
       " 'with',\n",
       " 's',\n",
       " 'in',\n",
       " 'this',\n",
       " 'sentence']"
      ]
     },
     "execution_count": 3,
     "metadata": {},
     "output_type": "execute_result"
    }
   ],
   "source": [
    "#Code here\n",
    "words = st.split(' ')\n",
    "words"
   ]
  },
  {
   "cell_type": "code",
   "execution_count": 4,
   "metadata": {},
   "outputs": [
    {
     "name": "stdout",
     "output_type": "stream",
     "text": [
      "start\n",
      "s\n",
      "sentence\n"
     ]
    }
   ],
   "source": [
    "for word in words:\n",
    "    if word[0].lower() == 's':\n",
    "        print(word)"
   ]
  },
  {
   "cell_type": "markdown",
   "metadata": {},
   "source": [
    "______\n",
    "**Use range() to print all the even numbers from 0 to 10.**"
   ]
  },
  {
   "cell_type": "code",
   "execution_count": 9,
   "metadata": {},
   "outputs": [
    {
     "data": {
      "text/plain": [
       "[0, 2, 4, 6, 8, 10]"
      ]
     },
     "execution_count": 9,
     "metadata": {},
     "output_type": "execute_result"
    }
   ],
   "source": [
    "#Code Here\n",
    "evenlist = [x for x in range(0,11) if x %2 == 0 ]\n",
    "evenlist"
   ]
  },
  {
   "cell_type": "markdown",
   "metadata": {},
   "source": [
    "___\n",
    "**Use a List Comprehension to create a list of all numbers between 1 and 50 that are divisible by 3.**"
   ]
  },
  {
   "cell_type": "code",
   "execution_count": 11,
   "metadata": {},
   "outputs": [
    {
     "data": {
      "text/plain": [
       "[3, 6, 9, 12, 15, 18, 21, 24, 27, 30, 33, 36, 39, 42, 45, 48]"
      ]
     },
     "execution_count": 11,
     "metadata": {},
     "output_type": "execute_result"
    }
   ],
   "source": [
    "#Code in this cell\n",
    "result = [x  for x in range(1,50) if x % 3 == 0]\n",
    "result"
   ]
  },
  {
   "cell_type": "markdown",
   "metadata": {},
   "source": [
    "_____\n",
    "**Go through the string below and if the length of a word is even print \"even!\"**"
   ]
  },
  {
   "cell_type": "code",
   "execution_count": 20,
   "metadata": {},
   "outputs": [
    {
     "name": "stdout",
     "output_type": "stream",
     "text": [
      "68\n"
     ]
    }
   ],
   "source": [
    "st = 'Print every word in this sentence that has an even number of letters'\n",
    "print(len(st))"
   ]
  },
  {
   "cell_type": "code",
   "execution_count": 21,
   "metadata": {},
   "outputs": [
    {
     "data": {
      "text/plain": [
       "['word', 'in', 'this', 'sentence', 'that', 'an', 'even', 'number', 'of']"
      ]
     },
     "execution_count": 21,
     "metadata": {},
     "output_type": "execute_result"
    }
   ],
   "source": [
    "#Code in this cell\n",
    "list1 = [word for word in st.split(' ') if len(word) % 2 == 0]\n",
    "list1"
   ]
  },
  {
   "cell_type": "markdown",
   "metadata": {},
   "source": [
    "____\n",
    "**Write a program that prints the integers from 1 to 100. But for multiples of three print \"Fizz\" instead of the number, and for the multiples of five print \"Buzz\". For numbers which are multiples of both three and five print \"FizzBuzz\".**"
   ]
  },
  {
   "cell_type": "code",
   "execution_count": 28,
   "metadata": {},
   "outputs": [
    {
     "data": {
      "text/plain": [
       "['Fizz-3',\n",
       " 'Buzz-5',\n",
       " 'Fizz-6',\n",
       " 'Fizz-9',\n",
       " 'Buzz-10',\n",
       " 'Fizz-12',\n",
       " 'FizzBuzz-15',\n",
       " 'Fizz-18',\n",
       " 'Buzz-20',\n",
       " 'Fizz-21',\n",
       " 'Fizz-24',\n",
       " 'Buzz-25',\n",
       " 'Fizz-27',\n",
       " 'FizzBuzz-30',\n",
       " 'Fizz-33',\n",
       " 'Buzz-35',\n",
       " 'Fizz-36',\n",
       " 'Fizz-39',\n",
       " 'Buzz-40',\n",
       " 'Fizz-42',\n",
       " 'FizzBuzz-45',\n",
       " 'Fizz-48',\n",
       " 'Buzz-50',\n",
       " 'Fizz-51',\n",
       " 'Fizz-54',\n",
       " 'Buzz-55',\n",
       " 'Fizz-57',\n",
       " 'FizzBuzz-60',\n",
       " 'Fizz-63',\n",
       " 'Buzz-65',\n",
       " 'Fizz-66',\n",
       " 'Fizz-69',\n",
       " 'Buzz-70',\n",
       " 'Fizz-72',\n",
       " 'FizzBuzz-75',\n",
       " 'Fizz-78',\n",
       " 'Buzz-80',\n",
       " 'Fizz-81',\n",
       " 'Fizz-84',\n",
       " 'Buzz-85',\n",
       " 'Fizz-87',\n",
       " 'FizzBuzz-90',\n",
       " 'Fizz-93',\n",
       " 'Buzz-95',\n",
       " 'Fizz-96',\n",
       " 'Fizz-99']"
      ]
     },
     "execution_count": 28,
     "metadata": {},
     "output_type": "execute_result"
    }
   ],
   "source": [
    "#Code in this cell\n",
    "result = []\n",
    "for num in range(1,100):\n",
    "    if num % 3 ==0 and num % 5 == 0:\n",
    "        result.append(\"FizzBuzz-{}\".format(num))\n",
    "    elif num % 5 ==0:\n",
    "        result.append(\"Buzz-{}\".format(num))\n",
    "    elif num % 3 == 0:\n",
    "        result.append(\"Fizz-{}\".format(num))\n",
    "result"
   ]
  },
  {
   "cell_type": "markdown",
   "metadata": {},
   "source": [
    "____\n",
    "**Use List Comprehension to create a list of the first letters of every word in the string below:**"
   ]
  },
  {
   "cell_type": "code",
   "execution_count": 29,
   "metadata": {},
   "outputs": [],
   "source": [
    "st = 'Create a list of the first letters of every word in this string'"
   ]
  },
  {
   "cell_type": "code",
   "execution_count": 30,
   "metadata": {},
   "outputs": [
    {
     "data": {
      "text/plain": [
       "['C', 'a', 'l', 'o', 't', 'f', 'l', 'o', 'e', 'w', 'i', 't', 's']"
      ]
     },
     "execution_count": 30,
     "metadata": {},
     "output_type": "execute_result"
    }
   ],
   "source": [
    "#Code in this cell\n",
    "result = [word[0] for word in st.split(' ') ]\n",
    "result"
   ]
  },
  {
   "cell_type": "markdown",
   "metadata": {},
   "source": [
    "### Great Job!"
   ]
  }
 ],
 "metadata": {
  "kernelspec": {
   "display_name": "Python 3",
   "language": "python",
   "name": "python3"
  },
  "language_info": {
   "codemirror_mode": {
    "name": "ipython",
    "version": 3
   },
   "file_extension": ".py",
   "mimetype": "text/x-python",
   "name": "python",
   "nbconvert_exporter": "python",
   "pygments_lexer": "ipython3",
   "version": "3.7.1"
  }
 },
 "nbformat": 4,
 "nbformat_minor": 1
}
